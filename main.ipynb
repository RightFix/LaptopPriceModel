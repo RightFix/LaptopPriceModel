{
 "cells": [
  {
   "cell_type": "markdown",
   "metadata": {
    "id": "SPkNZ6VEc4ym"
   },
   "source": [
    "Contributors\n",
    "\n",
    "Ude Righteousness Nwannennaya - 23/EG/CO/014,\n",
    "\n",
    "Essien Ubong Bassey - 23/EG/CO/009,"
   ]
  },
  {
   "cell_type": "markdown",
   "metadata": {
    "id": "rESkfC_BRy4g"
   },
   "source": [
    "Import Necessary Libraries In This Cell Below"
   ]
  },
  {
   "cell_type": "code",
   "execution_count": null,
   "metadata": {
    "id": "V3XJ9MjaukEX"
   },
   "outputs": [],
   "source": [
    "import pandas as pd\n",
    "import numpy as np\n",
    "import seaborn as sns\n",
    "import matplotlib.pyplot as plt\n",
    "from sklearn.model_selection import train_test_split as split\n",
    "from sklearn.linear_model import LinearRegression\n",
    "from sklearn.preprocessing import OneHotEncoder, StandardScaler\n",
    "from sklearn.compose import ColumnTransformer\n",
    "from sklearn.pipeline import Pipeline\n",
    "from sklearn.metrics import mean_squared_error, r2_score\n",
    "%matplotlib inline"
   ]
  },
  {
   "cell_type": "code",
   "execution_count": null,
   "metadata": {
    "id": "XBtXjABPNv2R"
   },
   "outputs": [],
   "source": [
    "df = pd.read_csv(\"dataset/laptop_price.csv\")"
   ]
  },
  {
   "cell_type": "markdown",
   "metadata": {
    "id": "S-ihVY3OiK6e"
   },
   "source": [
    "Dataset Overview"
   ]
  },
  {
   "cell_type": "code",
   "execution_count": null,
   "metadata": {
    "colab": {
     "base_uri": "https://localhost:8080/",
     "height": 451
    },
    "executionInfo": {
     "elapsed": 46,
     "status": "ok",
     "timestamp": 1754755845788,
     "user": {
      "displayName": "Ude Righteousness",
      "userId": "03876419122158577910"
     },
     "user_tz": -60
    },
    "id": "HByXW-eMRoct",
    "outputId": "2c769535-04ce-41f8-9a66-77a259b58d73"
   },
   "outputs": [],
   "source": [
    "df.head()"
   ]
  },
  {
   "cell_type": "code",
   "execution_count": null,
   "metadata": {
    "colab": {
     "base_uri": "https://localhost:8080/",
     "height": 556
    },
    "executionInfo": {
     "elapsed": 136,
     "status": "ok",
     "timestamp": 1754755845964,
     "user": {
      "displayName": "Ude Righteousness",
      "userId": "03876419122158577910"
     },
     "user_tz": -60
    },
    "id": "9aB3yB3ldKut",
    "outputId": "064b7f1c-6a59-4c0c-cba8-766eef16cd22"
   },
   "outputs": [],
   "source": [
    "df.tail()"
   ]
  },
  {
   "cell_type": "code",
   "execution_count": null,
   "metadata": {
    "colab": {
     "base_uri": "https://localhost:8080/"
    },
    "executionInfo": {
     "elapsed": 36,
     "status": "ok",
     "timestamp": 1754755846006,
     "user": {
      "displayName": "Ude Righteousness",
      "userId": "03876419122158577910"
     },
     "user_tz": -60
    },
    "id": "2VMgIYj9hEQJ",
    "outputId": "66ca20fb-eaa8-4c25-d670-fae0dc714bc9"
   },
   "outputs": [],
   "source": [
    "df.columns"
   ]
  },
  {
   "cell_type": "code",
   "execution_count": null,
   "metadata": {
    "colab": {
     "base_uri": "https://localhost:8080/",
     "height": 486
    },
    "executionInfo": {
     "elapsed": 32,
     "status": "ok",
     "timestamp": 1754755846027,
     "user": {
      "displayName": "Ude Righteousness",
      "userId": "03876419122158577910"
     },
     "user_tz": -60
    },
    "id": "hunCVbrNyG4v",
    "outputId": "de9232d5-cd07-43b7-aa9a-78ca71f78777"
   },
   "outputs": [],
   "source": [
    "df.sample(5)"
   ]
  },
  {
   "cell_type": "code",
   "execution_count": null,
   "metadata": {
    "colab": {
     "base_uri": "https://localhost:8080/"
    },
    "executionInfo": {
     "elapsed": 132,
     "status": "ok",
     "timestamp": 1754755846164,
     "user": {
      "displayName": "Ude Righteousness",
      "userId": "03876419122158577910"
     },
     "user_tz": -60
    },
    "id": "h8rz7vIlRuv6",
    "outputId": "70c3d900-b68f-4c87-e67b-195cf13b1a26"
   },
   "outputs": [],
   "source": [
    "df.info()"
   ]
  },
  {
   "cell_type": "code",
   "execution_count": null,
   "metadata": {
    "colab": {
     "base_uri": "https://localhost:8080/",
     "height": 300
    },
    "executionInfo": {
     "elapsed": 40,
     "status": "ok",
     "timestamp": 1754755846217,
     "user": {
      "displayName": "Ude Righteousness",
      "userId": "03876419122158577910"
     },
     "user_tz": -60
    },
    "id": "EK-eg55qdUWz",
    "outputId": "f318efbf-fdba-4068-c346-54e76a43dca9"
   },
   "outputs": [],
   "source": [
    "df.describe()"
   ]
  },
  {
   "cell_type": "code",
   "execution_count": null,
   "metadata": {
    "colab": {
     "base_uri": "https://localhost:8080/",
     "height": 247
    },
    "executionInfo": {
     "elapsed": 117,
     "status": "ok",
     "timestamp": 1754755846338,
     "user": {
      "displayName": "Ude Righteousness",
      "userId": "03876419122158577910"
     },
     "user_tz": -60
    },
    "id": "AoDBv6Scdday",
    "outputId": "a0b0ed4d-d84c-4363-b33f-543719fda767"
   },
   "outputs": [],
   "source": [
    "df.describe(include = \"object\")"
   ]
  },
  {
   "cell_type": "markdown",
   "metadata": {
    "id": "I7cUN17iik0X"
   },
   "source": [
    "Data Cleaning And Analysis"
   ]
  },
  {
   "cell_type": "code",
   "execution_count": null,
   "metadata": {
    "colab": {
     "base_uri": "https://localhost:8080/"
    },
    "executionInfo": {
     "elapsed": 66,
     "status": "ok",
     "timestamp": 1754762557770,
     "user": {
      "displayName": "Ude Righteousness",
      "userId": "03876419122158577910"
     },
     "user_tz": -60
    },
    "id": "hmcLxmGuhX3Z",
    "outputId": "219c46c6-c17c-4ec6-e97b-02dcdf98cc3a"
   },
   "outputs": [],
   "source": [
    "#Standardise columns name by making it lowercase\n",
    "df.columns = df.columns.str.replace(\" \",\"_\").str.lower()\n",
    "df.columns"
   ]
  },
  {
   "cell_type": "code",
   "execution_count": null,
   "metadata": {
    "colab": {
     "base_uri": "https://localhost:8080/",
     "height": 451
    },
    "executionInfo": {
     "elapsed": 757,
     "status": "ok",
     "timestamp": 1754762562539,
     "user": {
      "displayName": "Ude Righteousness",
      "userId": "03876419122158577910"
     },
     "user_tz": -60
    },
    "id": "RfNu3nk8fAkv",
    "outputId": "e86aad52-50e8-4b6d-825b-a73a16094282"
   },
   "outputs": [],
   "source": [
    "# Dropping the laptop_ID column because it isn't need in the analysis\n",
    "# Using data variable instead of df so as not to tamper with the original dataset\n",
    "data = df.drop(columns= \"laptop_id\")\n",
    "data.head()"
   ]
  },
  {
   "cell_type": "code",
   "execution_count": null,
   "metadata": {
    "colab": {
     "base_uri": "https://localhost:8080/",
     "height": 451
    },
    "executionInfo": {
     "elapsed": 106,
     "status": "ok",
     "timestamp": 1754762571083,
     "user": {
      "displayName": "Ude Righteousness",
      "userId": "03876419122158577910"
     },
     "user_tz": -60
    },
    "id": "YxuMtyPfPUtq",
    "outputId": "847e8332-177e-4c93-8b6e-b0de48d00fe1"
   },
   "outputs": [],
   "source": [
    "# Remove duplicate samples\n",
    "data = data.drop_duplicates()\n",
    "data.head()"
   ]
  },
  {
   "cell_type": "code",
   "execution_count": null,
   "metadata": {
    "colab": {
     "base_uri": "https://localhost:8080/",
     "height": 460
    },
    "executionInfo": {
     "elapsed": 64,
     "status": "ok",
     "timestamp": 1754755846606,
     "user": {
      "displayName": "Ude Righteousness",
      "userId": "03876419122158577910"
     },
     "user_tz": -60
    },
    "id": "8L8Zq5LljmwP",
    "outputId": "2140fa69-1dac-498f-e592-c59b5733168c"
   },
   "outputs": [],
   "source": [
    "data.isnull().sum()"
   ]
  },
  {
   "cell_type": "code",
   "execution_count": null,
   "metadata": {
    "colab": {
     "base_uri": "https://localhost:8080/",
     "height": 460
    },
    "executionInfo": {
     "elapsed": 31,
     "status": "ok",
     "timestamp": 1754755846629,
     "user": {
      "displayName": "Ude Righteousness",
      "userId": "03876419122158577910"
     },
     "user_tz": -60
    },
    "id": "Swrzy8zxuCA-",
    "outputId": "b8c3c132-1c56-401a-ee39-05718a5a75ff"
   },
   "outputs": [],
   "source": [
    "# Filling null value with the mode of their column\n",
    "data.gpu = data.gpu.fillna(data.gpu.mode()[0])\n",
    "data.weight= data.weight.fillna(data.weight.mode()[0])\n",
    "data.isnull().sum()"
   ]
  },
  {
   "cell_type": "code",
   "execution_count": null,
   "metadata": {
    "colab": {
     "base_uri": "https://localhost:8080/"
    },
    "executionInfo": {
     "elapsed": 179,
     "status": "ok",
     "timestamp": 1754755846811,
     "user": {
      "displayName": "Ude Righteousness",
      "userId": "03876419122158577910"
     },
     "user_tz": -60
    },
    "id": "SpQMZo69uiTf",
    "outputId": "4a33fd65-f37a-4003-9730-b842f4e36afa"
   },
   "outputs": [],
   "source": [
    "#value count of each columns\n",
    "#for col in data.columns:\n",
    "#  print(data[col].value_counts())\n",
    "#  print(\"\\n\\n\")"
   ]
  },
  {
   "cell_type": "code",
   "execution_count": null,
   "metadata": {
    "colab": {
     "base_uri": "https://localhost:8080/",
     "height": 1000
    },
    "executionInfo": {
     "elapsed": 9618,
     "status": "ok",
     "timestamp": 1754755856433,
     "user": {
      "displayName": "Ude Righteousness",
      "userId": "03876419122158577910"
     },
     "user_tz": -60
    },
    "id": "2Y0zr1D_xeV_",
    "outputId": "09f624d6-1484-4b1d-b444-16750407aa39"
   },
   "outputs": [],
   "source": [
    "# Countplot for all non-numeric columns\n",
    "\n",
    "#for cols in data.select_dtypes(include= \"object\"):\n",
    " #plt.figure(figsize = (20,5))\n",
    " #sns.countplot(data= data, x =cols)\n",
    " #plt.title(f\"Count Plot For {cols}\".capitalize())\n",
    "# plt.xticks(rotation = 90)\n",
    " #plt.show()"
   ]
  },
  {
   "cell_type": "code",
   "execution_count": null,
   "metadata": {
    "colab": {
     "base_uri": "https://localhost:8080/",
     "height": 1000
    },
    "executionInfo": {
     "elapsed": 20484,
     "status": "ok",
     "timestamp": 1754755876938,
     "user": {
      "displayName": "Ude Righteousness",
      "userId": "03876419122158577910"
     },
     "user_tz": -60
    },
    "id": "P7--IXmb8D5e",
    "outputId": "1d64b908-307a-4a60-b81f-bb7718c0e3df"
   },
   "outputs": [],
   "source": [
    "# Barplot for all non-numeric columns by Price\n",
    "\n",
    "#for cols in data.select_dtypes(include= \"object\"):\n",
    " #plt.figure(figsize = (20,5))\n",
    "# sns.barplot(data= data, x =cols, y= \"price_euros\")\n",
    " #plt.title(f\"Bar Plot For {cols} Vs Price in Euros(£)\".capitalize())\n",
    " #plt.xticks(rotation = 90)\n",
    "# plt.show()"
   ]
  },
  {
   "cell_type": "code",
   "execution_count": null,
   "metadata": {
    "colab": {
     "base_uri": "https://localhost:8080/"
    },
    "executionInfo": {
     "elapsed": 94,
     "status": "ok",
     "timestamp": 1754755877055,
     "user": {
      "displayName": "Ude Righteousness",
      "userId": "03876419122158577910"
     },
     "user_tz": -60
    },
    "id": "FObWQdGmkP2-",
    "outputId": "deb6011d-457c-4305-e363-826a4086fd65"
   },
   "outputs": [],
   "source": [
    "plt.close()"
   ]
  },
  {
   "cell_type": "code",
   "execution_count": null,
   "metadata": {
    "colab": {
     "base_uri": "https://localhost:8080/"
    },
    "executionInfo": {
     "elapsed": 94,
     "status": "ok",
     "timestamp": 1754755877055,
     "user": {
      "displayName": "Ude Righteousness",
      "userId": "03876419122158577910"
     },
     "user_tz": -60
    },
    "id": "FObWQdGmkP2-",
    "outputId": "deb6011d-457c-4305-e363-826a4086fd65"
   },
   "outputs": [],
   "source": [
    "data.info()"
   ]
  },
  {
   "cell_type": "markdown",
   "metadata": {
    "id": "hVFjMCH2m8k6"
   },
   "source": [
    "creation And Training Models"
   ]
  },
  {
   "cell_type": "code",
   "execution_count": null,
   "metadata": {
    "id": "hVFjMCH2m8k6"
   },
   "outputs": [],
   "source": [
    "# droping inches column because it is not needed\n",
    "x = data.drop(columns = [\"price_euros\", \"inches\"], axis=1 ) # Independent variable (predictor)\n",
    "y = data[\"price_euros\"] # Dependent variable (target)"
   ]
  },
  {
   "cell_type": "code",
   "execution_count": null,
   "metadata": {
    "id": "uIK6b_YsABVA"
   },
   "outputs": [],
   "source": [
    "x_train, x_test, y_train, y_test = split(x, y, test_size= 0.1, random_state=42)"
   ]
  },
  {
   "cell_type": "code",
   "execution_count": null,
   "metadata": {
    "colab": {
     "base_uri": "https://localhost:8080/"
    },
    "executionInfo": {
     "elapsed": 71,
     "status": "ok",
     "timestamp": 1754763129046,
     "user": {
      "displayName": "Ude Righteousness",
      "userId": "03876419122158577910"
     },
     "user_tz": -60
    },
    "id": "GT4wugp0m88X",
    "outputId": "2acfcbf1-5804-46df-c1b9-c136b900982d"
   },
   "outputs": [],
   "source": [
    "print(x_train.shape, y_train.shape)"
   ]
  },
  {
   "cell_type": "code",
   "execution_count": null,
   "metadata": {
    "colab": {
     "base_uri": "https://localhost:8080/"
    },
    "executionInfo": {
     "elapsed": 71,
     "status": "ok",
     "timestamp": 1754763129046,
     "user": {
      "displayName": "Ude Righteousness",
      "userId": "03876419122158577910"
     },
     "user_tz": -60
    },
    "id": "GT4wugp0m88X",
    "outputId": "2acfcbf1-5804-46df-c1b9-c136b900982d"
   },
   "outputs": [],
   "source": [
    "# Identify categorical & numeric columns\n",
    "cat_cols = x.select_dtypes(include=['object']).columns\n",
    "num_cols = x.select_dtypes(exclude=['object']).columns\n"
   ]
  },
  {
   "cell_type": "code",
   "execution_count": null,
   "metadata": {
    "id": "OpE9H7lbAxvO"
   },
   "outputs": [],
   "source": [
    "#Transformer: Encode categorical + scale numeric\n",
    "preprocessor = ColumnTransformer(\n",
    "    transformers=[\n",
    "        ('cat', OneHotEncoder(handle_unknown='ignore'), cat_cols),\n",
    "        ('num', StandardScaler(), num_cols)\n",
    "    ]\n",
    ")"
   ]
  },
  {
   "cell_type": "code",
   "execution_count": null,
   "metadata": {},
   "outputs": [],
   "source": [
    "# Pipeline: preprocessing + model\n",
    "model = Pipeline(steps=[\n",
    "    ('preprocessor', preprocessor),\n",
    "    ('regressor', LinearRegression())\n",
    "])\n"
   ]
  },
  {
   "cell_type": "code",
   "execution_count": null,
   "metadata": {},
   "outputs": [],
   "source": [
    "# Train\n",
    "model.fit(x_train, y_train)\n"
   ]
  },
  {
   "cell_type": "code",
   "execution_count": null,
   "metadata": {},
   "outputs": [],
   "source": [
    "# Predict\n",
    "predictions = model.predict(x_test)\n",
    "\n",
    "#print(\"Predictions:\", predictions)\n"
   ]
  },
  {
   "cell_type": "code",
   "execution_count": null,
   "metadata": {},
   "outputs": [],
   "source": [
    "\n",
    "# Evaluate\n",
    "mse = mean_squared_error(y_test, predictions)\n",
    "r2 = r2_score(y_test, predictions)\n",
    "\n",
    "#print(\"Mean Squared Error:\", mse)\n",
    "#print(\"R² Score:\", r2)\n"
   ]
  },
  {
   "cell_type": "markdown",
   "metadata": {},
   "source": [
    "Testing Model With External Values"
   ]
  },
  {
   "cell_type": "code",
   "execution_count": null,
   "metadata": {},
   "outputs": [],
   "source": [
    "# user input would be taken care of in this cell\n",
    "#a, b, c, d, e,f ,g, h,i,j = \"Apple\", \"MacBook Pro\", \"\", \"1.4\", \"\", \"\", \"\", \"\", \"\", \"3.2kg\"\n",
    "def result(feature):\n",
    "   # creating an empty dictionary whenever it is called\n",
    "   test_data = {}\n",
    "   for test_cols in x.columns:\n",
    "          test_data.update({test_cols:[\"\"]})\n",
    "       \n",
    "   test_data[\"company\"]= feature[0]\n",
    "   test_data[\"product\"] = feature[1]\n",
    "   test_data[\"typename\"] = feature[2]\n",
    "   test_data[\"screenresolution\"] = feature[3]\n",
    "   test_data[\"cpu\"] = feature[4]\n",
    "   test_data[\"memory\"] = feature[5]\n",
    "   test_data[\"gpu\"]= feature[6]\n",
    "   test_data[\"opsys\"] = feature[7]\n",
    "   test_data[\"weight\"] = feature[8]\n",
    "\n",
    "   test_data_df = pd.DataFrame(test_data)\n",
    "   #print(test_data_df)\n",
    "    \n",
    "   # test data to numeric because of category columns    \n",
    "    \n",
    "   onehot_encoder = OneHotEncoder(sparse_output=False, handle_unknown='ignore')\n",
    "\n",
    "   for cols in test_data_df.select_dtypes(include =\"object\").columns:\n",
    "      # Fit and transform the column\n",
    "      encoded_features = onehot_encoder.fit_transform(test_data_df[[cols]])\n",
    "      # Create a DataFrame from the encoded features with appropriate column names\n",
    "      encoded_df = pd.DataFrame(encoded_features, columns=onehot_encoder.get_feature_names_out([cols]))\n",
    "      #Concatenate with the original DataFrame \n",
    "      df_encoded = pd.concat([test_data_df, encoded_df], axis=1) \n",
    "    \n",
    "   return model.predict(df_encoded)\n",
    "\n",
    "#print(result(a, b, c, d, e, f, g, h, i, j))\n",
    "\n"
   ]
  },
  {
   "cell_type": "markdown",
   "metadata": {},
   "source": [
    "Streamlit variables for the Selection Box Variable (SVB)"
   ]
  },
  {
   "cell_type": "code",
   "execution_count": null,
   "metadata": {},
   "outputs": [],
   "source": [
    "svb = {}\n",
    "for cols in x.columns:\n",
    "    svb[cols] = set(x[cols].tolist())"
   ]
  },
  {
   "cell_type": "code",
   "execution_count": null,
   "metadata": {},
   "outputs": [],
   "source": []
  }
 ],
 "metadata": {
  "colab": {
   "provenance": []
  },
  "kernelspec": {
   "display_name": "Python 3 (ipykernel)",
   "language": "python",
   "name": "python3"
  },
  "language_info": {
   "codemirror_mode": {
    "name": "ipython",
    "version": 3
   },
   "file_extension": ".py",
   "mimetype": "text/x-python",
   "name": "python",
   "nbconvert_exporter": "python",
   "pygments_lexer": "ipython3",
   "version": "3.13.2"
  }
 },
 "nbformat": 4,
 "nbformat_minor": 4
}
