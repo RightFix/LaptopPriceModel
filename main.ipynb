{
  "cells": [
    {
      "cell_type": "markdown",
      "metadata": {
        "id": "view-in-github",
        "colab_type": "text"
      },
      "source": [
        "<a href=\"https://colab.research.google.com/github/RightFix/LaptopPriceModel/blob/main/main.ipynb\" target=\"_parent\"><img src=\"https://colab.research.google.com/assets/colab-badge.svg\" alt=\"Open In Colab\"/></a>"
      ]
    },
    {
      "cell_type": "markdown",
      "metadata": {
        "id": "Z02ueV_ALtYY"
      },
      "source": [
        "Using Google Colab Uncomment the first three cells"
      ]
    },
    {
      "cell_type": "code",
      "execution_count": null,
      "metadata": {
        "id": "Gtm-Zy-u4PcE"
      },
      "outputs": [],
      "source": [
        "from google.colab import drive"
      ]
    },
    {
      "cell_type": "code",
      "execution_count": null,
      "metadata": {
        "id": "_lML_4zO4Y3p"
      },
      "outputs": [],
      "source": [
        "drive.mount(\"/content/drive\")"
      ]
    },
    {
      "cell_type": "code",
      "execution_count": null,
      "metadata": {
        "id": "QzE5HWTi4oIq"
      },
      "outputs": [],
      "source": [
        "cd /content/drive/MyDrive/Group_K_Project"
      ]
    },
    {
      "cell_type": "code",
      "execution_count": null,
      "metadata": {
        "collapsed": true,
        "id": "mDU_ttNowkrU"
      },
      "outputs": [],
      "source": [
        "!pip install ydata_profiling"
      ]
    },
    {
      "cell_type": "markdown",
      "metadata": {
        "id": "rESkfC_BRy4g"
      },
      "source": [
        "Import Necessary Libraries In This Cell Below"
      ]
    },
    {
      "cell_type": "code",
      "execution_count": null,
      "metadata": {
        "id": "V3XJ9MjaukEX"
      },
      "outputs": [],
      "source": [
        "import pandas as pd\n",
        "import numpy as np\n",
        "import seaborn as sns\n",
        "import matplotlib.pyplot as plt\n",
        "from sklearn.model_selection import train_test_split as split\n",
        "from sklearn.linear_model import LinearRegression\n",
        "from sklearn.preprocessing import OneHotEncoder, StandardScaler\n",
        "from sklearn.compose import ColumnTransformer\n",
        "from sklearn.pipeline import Pipeline\n",
        "from sklearn.metrics import mean_squared_error, r2_score\n",
        "%matplotlib inline\n",
        "import joblib\n",
        "from ydata_profiling import ProfileReport"
      ]
    },
    {
      "cell_type": "code",
      "execution_count": null,
      "metadata": {
        "id": "XBtXjABPNv2R"
      },
      "outputs": [],
      "source": [
        "df = pd.read_csv(\"dataset/laptop_price.csv\")"
      ]
    },
    {
      "cell_type": "markdown",
      "metadata": {
        "id": "S-ihVY3OiK6e"
      },
      "source": [
        "Dataset Overview"
      ]
    },
    {
      "cell_type": "code",
      "execution_count": null,
      "metadata": {
        "id": "HByXW-eMRoct"
      },
      "outputs": [],
      "source": [
        "df.head()"
      ]
    },
    {
      "cell_type": "code",
      "execution_count": null,
      "metadata": {
        "id": "9aB3yB3ldKut"
      },
      "outputs": [],
      "source": [
        "df.tail()"
      ]
    },
    {
      "cell_type": "code",
      "execution_count": null,
      "metadata": {
        "id": "2VMgIYj9hEQJ"
      },
      "outputs": [],
      "source": [
        "df.columns"
      ]
    },
    {
      "cell_type": "code",
      "execution_count": null,
      "metadata": {
        "id": "hunCVbrNyG4v"
      },
      "outputs": [],
      "source": [
        "df.sample(5)"
      ]
    },
    {
      "cell_type": "code",
      "execution_count": null,
      "metadata": {
        "id": "h8rz7vIlRuv6"
      },
      "outputs": [],
      "source": [
        "df.info()"
      ]
    },
    {
      "cell_type": "code",
      "execution_count": null,
      "metadata": {
        "id": "EK-eg55qdUWz"
      },
      "outputs": [],
      "source": [
        "df.describe()"
      ]
    },
    {
      "cell_type": "code",
      "execution_count": null,
      "metadata": {
        "id": "AoDBv6Scdday"
      },
      "outputs": [],
      "source": [
        "df.describe(include = \"object\")"
      ]
    },
    {
      "cell_type": "markdown",
      "metadata": {
        "id": "I7cUN17iik0X"
      },
      "source": [
        "Data Cleaning And Analysis"
      ]
    },
    {
      "cell_type": "code",
      "execution_count": null,
      "metadata": {
        "id": "RfNu3nk8fAkv"
      },
      "outputs": [],
      "source": [
        "# Dropping the laptop_ID column because it isn't need in the analysis\n",
        "# Using data variable instead of df so as not to tamper with the original dataset\n",
        "data = df.drop(columns= \"laptop_ID\")\n",
        "data.head()"
      ]
    },
    {
      "cell_type": "code",
      "execution_count": null,
      "metadata": {
        "id": "hmcLxmGuhX3Z"
      },
      "outputs": [],
      "source": [
        "#Standardise columns name by making it understandable\n",
        "data = data.rename(columns = {\"TypeName\":\"Type\", \"Cpu\" :\"CPU\", \"Gpu\": \"GPU\", \"Ram\" : \"RAM\", \"Price_euros\": \"Price(£)\", \"OpSys\": \"Operating_System\", \"ScreenResolution\": \"Screen_Resolution\"})"
      ]
    },
    {
      "cell_type": "code",
      "execution_count": null,
      "metadata": {
        "id": "YxuMtyPfPUtq"
      },
      "outputs": [],
      "source": [
        "# Remove duplicate samples\n",
        "data = data.drop_duplicates()\n",
        "data.head()"
      ]
    },
    {
      "cell_type": "code",
      "execution_count": null,
      "metadata": {
        "id": "8L8Zq5LljmwP"
      },
      "outputs": [],
      "source": [
        "data.isnull().sum()"
      ]
    },
    {
      "cell_type": "code",
      "execution_count": null,
      "metadata": {
        "id": "Swrzy8zxuCA-"
      },
      "outputs": [],
      "source": [
        "# Filling null value with the mode of their column\n",
        "data.GPU = data.GPU.fillna(data.GPU.mode()[0])\n",
        "data.Weight= data.Weight.fillna(data.Weight.mode()[0])\n",
        "data.isnull().sum()"
      ]
    },
    {
      "cell_type": "code",
      "execution_count": null,
      "metadata": {
        "id": "SpQMZo69uiTf",
        "collapsed": true
      },
      "outputs": [],
      "source": [
        "#value count of each columns\n",
        "for col in data.columns:\n",
        "  print(data[col].value_counts())\n",
        "  print(\"\\n\\n\")"
      ]
    },
    {
      "cell_type": "code",
      "execution_count": null,
      "metadata": {
        "id": "2Y0zr1D_xeV_",
        "collapsed": true
      },
      "outputs": [],
      "source": [
        "# Countplot for all non-numeric columns\n",
        "\n",
        "for cols in data.select_dtypes(include= \"object\"):\n",
        " plt.figure(figsize = (20,5))\n",
        " sns.countplot(data= data, x =cols)\n",
        " plt.title(f\"Count Plot For {cols}\".capitalize())\n",
        " plt.xticks(rotation = 90)\n",
        " plt.show()"
      ]
    },
    {
      "cell_type": "code",
      "execution_count": null,
      "metadata": {
        "id": "P7--IXmb8D5e",
        "collapsed": true
      },
      "outputs": [],
      "source": [
        "# Barplot for all non-numeric columns by Price\n",
        "\n",
        "for cols in data.select_dtypes(include= \"object\"):\n",
        " plt.figure(figsize = (20,5))\n",
        " sns.barplot(data= data, x =cols, y= \"Price(£)\")\n",
        " plt.title(f\"Bar Plot For {cols} Vs Price in Euros(£)\".capitalize())\n",
        " plt.xticks(rotation = 90)\n",
        " plt.show()"
      ]
    },
    {
      "cell_type": "code",
      "execution_count": null,
      "metadata": {
        "id": "FObWQdGmkP2-"
      },
      "outputs": [],
      "source": [
        "plt.close()"
      ]
    },
    {
      "cell_type": "code",
      "execution_count": null,
      "metadata": {
        "id": "s-pbIZgV3uIw"
      },
      "outputs": [],
      "source": [
        "data.info()"
      ]
    },
    {
      "cell_type": "markdown",
      "metadata": {
        "id": "hVFjMCH2m8k6"
      },
      "source": [
        "Creation And Training Models"
      ]
    },
    {
      "cell_type": "code",
      "execution_count": null,
      "metadata": {
        "id": "JfdObvR73uIy"
      },
      "outputs": [],
      "source": [
        "x = data.drop(columns = [\"Price(£)\", \"Inches\"], axis=1 ) # Droping inches and price column because it is not needed\n",
        "y = data[\"Price(£)\"] # Dependent variable (target)"
      ]
    },
    {
      "cell_type": "code",
      "execution_count": null,
      "metadata": {
        "id": "uIK6b_YsABVA"
      },
      "outputs": [],
      "source": [
        "x_train, x_test, y_train, y_test = split(x, y, test_size= 0.25, random_state=25)"
      ]
    },
    {
      "cell_type": "code",
      "execution_count": null,
      "metadata": {
        "id": "GT4wugp0m88X"
      },
      "outputs": [],
      "source": [
        "print(x_train.shape, y_train.shape)"
      ]
    },
    {
      "cell_type": "code",
      "execution_count": null,
      "metadata": {
        "id": "kzclVVrD3uI3"
      },
      "outputs": [],
      "source": [
        "# Identify categorical & numeric columns\n",
        "cat_cols = x.select_dtypes(include=['object']).columns\n",
        "num_cols = x.select_dtypes(exclude=['object']).columns"
      ]
    },
    {
      "cell_type": "code",
      "execution_count": null,
      "metadata": {
        "id": "OpE9H7lbAxvO"
      },
      "outputs": [],
      "source": [
        "#Transformer: Encode categorical + scale numeric\n",
        "preprocessor = ColumnTransformer(\n",
        "    transformers=[\n",
        "        ('cat', OneHotEncoder(handle_unknown='ignore'), cat_cols),\n",
        "        ('num', StandardScaler(), num_cols)\n",
        "    ]\n",
        ")"
      ]
    },
    {
      "cell_type": "code",
      "execution_count": null,
      "metadata": {
        "id": "ZBdxKXzJ3uI6"
      },
      "outputs": [],
      "source": [
        "# Pipeline: preprocessing + model\n",
        "model = Pipeline(steps=[\n",
        "    ('preprocessor', preprocessor),\n",
        "    ('regressor', LinearRegression())\n",
        "])"
      ]
    },
    {
      "cell_type": "code",
      "execution_count": null,
      "metadata": {
        "id": "88ZmndPY3uI8"
      },
      "outputs": [],
      "source": [
        "# Train\n",
        "model.fit(x_train, y_train)"
      ]
    },
    {
      "cell_type": "code",
      "execution_count": null,
      "metadata": {
        "collapsed": true,
        "id": "hMktgoxR3uI9"
      },
      "outputs": [],
      "source": [
        "# Predict\n",
        "predictions = model.predict(x_test)\n",
        "\n",
        "print(\"Predictions:\", predictions[:5])"
      ]
    },
    {
      "cell_type": "code",
      "execution_count": null,
      "metadata": {
        "id": "F2vgiY5R3uI-"
      },
      "outputs": [],
      "source": [
        "\n",
        "# Evaluate\n",
        "mse = mean_squared_error(y_test, predictions)\n",
        "r2 = r2_score(y_test, predictions)\n",
        "\n",
        "print(\"Mean Squared Error:\", mse)\n",
        "print(\"R² Score:\", r2)"
      ]
    },
    {
      "cell_type": "markdown",
      "source": [
        "Save Model With Joblib"
      ],
      "metadata": {
        "id": "CfayJcxEMOWc"
      }
    },
    {
      "cell_type": "code",
      "source": [
        "filename = \"laptop_model.joblib\""
      ],
      "metadata": {
        "id": "Kyl0xwc4MR9Y"
      },
      "execution_count": null,
      "outputs": []
    },
    {
      "cell_type": "code",
      "source": [
        "joblib.dump(model, filename)"
      ],
      "metadata": {
        "id": "UZviFQsQMfUU"
      },
      "execution_count": null,
      "outputs": []
    },
    {
      "cell_type": "markdown",
      "metadata": {
        "id": "bdo5KXxb3uJA"
      },
      "source": [
        "Testing Model With External Values"
      ]
    },
    {
      "cell_type": "code",
      "execution_count": null,
      "metadata": {
        "id": "asJ2v2Qt3uJB"
      },
      "outputs": [],
      "source": [
        "# This cell contain the algorithm that will take the user inputs as an argument and return the predicted price\n",
        "def result(feature):\n",
        "\n",
        "   test_data = {test_cols :[feature[id]] for test_cols, id in zip(x.columns, range(len(x.columns)))}\n",
        "\n",
        "   test_data_df = pd.DataFrame(test_data)\n",
        "\n",
        "   # test data to numeric because of category columns\n",
        "\n",
        "   onehot_encoder = OneHotEncoder(sparse_output=False, handle_unknown='ignore')\n",
        "\n",
        "   for cols in test_data_df.select_dtypes(include =\"object\").columns:\n",
        "      # Fit and transform the column\n",
        "      encoded_features = onehot_encoder.fit_transform(test_data_df[[cols]])\n",
        "      # Create a DataFrame from the encoded features with appropriate column names\n",
        "      encoded_df = pd.DataFrame(encoded_features, columns=onehot_encoder.get_feature_names_out([cols]))\n",
        "      #Concatenate with the original DataFrame\n",
        "      df_encoded = pd.concat([test_data_df, encoded_df], axis=1)\n",
        "\n",
        "   return model.predict(df_encoded)"
      ]
    },
    {
      "cell_type": "markdown",
      "metadata": {
        "id": "UWr7zTAtK5mx"
      },
      "source": [
        "Create data report using Ydata"
      ]
    },
    {
      "cell_type": "code",
      "execution_count": null,
      "metadata": {
        "collapsed": true,
        "id": "tMBMwLOZ3uJL"
      },
      "outputs": [],
      "source": [
        "profile = ProfileReport(data, title='Data Report Of The Laptop Price Dataset',explorative=True)\n",
        "profile.to_notebook_iframe()"
      ]
    },
    {
      "cell_type": "code",
      "execution_count": null,
      "metadata": {
        "id": "pPIvU0xAMYek"
      },
      "outputs": [],
      "source": [
        "profile.to_file(\"Data Report Of The Laptop Price Dataset\")"
      ]
    }
  ],
  "metadata": {
    "colab": {
      "provenance": [],
      "include_colab_link": true
    },
    "kernelspec": {
      "display_name": "Python 3 (ipykernel)",
      "language": "python",
      "name": "python3"
    },
    "language_info": {
      "codemirror_mode": {
        "name": "ipython",
        "version": 3
      },
      "file_extension": ".py",
      "mimetype": "text/x-python",
      "name": "python",
      "nbconvert_exporter": "python",
      "pygments_lexer": "ipython3",
      "version": "3.13.2"
    }
  },
  "nbformat": 4,
  "nbformat_minor": 0
}